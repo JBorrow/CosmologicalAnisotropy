{
 "cells": [
  {
   "cell_type": "code",
   "execution_count": 1,
   "metadata": {
    "collapsed": false
   },
   "outputs": [
    {
     "name": "stdout",
     "output_type": "stream",
     "text": [
      "Populating the interactive namespace from numpy and matplotlib\n"
     ]
    }
   ],
   "source": [
    "%pylab inline\n",
    "\n",
    "import pandas\n",
    "import scipy.integrate as si"
   ]
  },
  {
   "cell_type": "code",
   "execution_count": 2,
   "metadata": {
    "collapsed": false
   },
   "outputs": [],
   "source": [
    "# Step 1: Get Data\n",
    "\n",
    "with open(\"../data/jla_data_toconvert.txt\", 'r') as jlaraw:\n",
    "    jlarawstr = jlaraw.read()\n",
    "    \n",
    "jlarawlines = jlarawstr.split(\"\\n\")\n",
    "\n",
    "i = 0\n",
    "headings = []\n",
    "while (jlarawlines[i] != r\"#end\"):\n",
    "    thisline = jlarawlines[i]\n",
    "    i+=1\n",
    "    if thisline[0] == r\"@\":\n",
    "        continue\n",
    "    else:\n",
    "        headings.append(thisline[1:-1])\n",
    "        \n",
    "#SNTYPE, SURVEY and name have str type but all others have float type\n",
    "types = []\n",
    "\n",
    "for heading in headings:  # this doesn't actually work bro\n",
    "    if heading in ['SNTYPE', 'SURVEY', 'name', 'LCSRC_0']:\n",
    "        types.append(np.str_)\n",
    "    else:\n",
    "        types.append(np.float_)\n",
    "\n",
    "# now we actually need to parse data into an array. This is going to be very messy. Sorry, future me if this breaks.\n",
    "fulllist = []\n",
    "\n",
    "for line in jlarawlines:\n",
    "    if line:\n",
    "        if (line[0]=='#') or (line[0]=='@'):\n",
    "            continue\n",
    "        else:\n",
    "            thisarry = np.empty_like(types)\n",
    "            thislist = line.split(\"  \")\n",
    "            for i in range(len(thisarry)):\n",
    "                thisarry[i] = thislist[i]\n",
    "        \n",
    "            fulllist.append(thisarry)\n",
    "            \n",
    "\n",
    "fullarray = np.array(fulllist)\n",
    "\n",
    "jla = pandas.DataFrame(data=fullarray, columns=headings)\n",
    "\n",
    "# correct SDSS data\n",
    "\n",
    "corrected = array(jla.loc[jla['SURVEY']=='SDSS']['RA'], dtype=float) + 180\n",
    "jla.loc[jla['SURVEY']=='SDSS', 'RA'] = corrected\n",
    "\n",
    "# now convert to different data types\n",
    "\n",
    "for heading in headings:\n",
    "    if heading in ['SNTYPE', 'SURVEY', 'name', 'LCSRC_0']:\n",
    "        jla[heading] = jla[heading].astype(str)\n",
    "    else:\n",
    "        jla[heading] = jla[heading].astype(float)\n"
   ]
  },
  {
   "cell_type": "code",
   "execution_count": 3,
   "metadata": {
    "collapsed": false
   },
   "outputs": [
    {
     "data": {
      "text/plain": [
       "<matplotlib.axes._subplots.AxesSubplot at 0x7fc9fa9f70b8>"
      ]
     },
     "execution_count": 3,
     "metadata": {},
     "output_type": "execute_result"
    },
    {
     "data": {
      "image/png": "[encoded data removed]",
      "text/plain": [
       "<matplotlib.figure.Figure at 0x7fc9fa9dcda0>"
      ]
     },
     "metadata": {},
     "output_type": "display_data"
    }
   ],
   "source": [
    "# test everything went okay\n",
    "\n",
    "jla.plot(kind='scatter', x='z', y='msb')"
   ]
  },
  {
   "cell_type": "markdown",
   "metadata": {},
   "source": [
    "Will have \n",
    "+ params[0] = lpeak\n",
    "+ params[1] = omegaM\n"
   ]
  },
  {
   "cell_type": "code",
   "execution_count": 4,
   "metadata": {
    "collapsed": false
   },
   "outputs": [],
   "source": [
    "# Cosmology\n",
    "\n",
    "zlim = 0.075\n",
    "\n",
    "import theano\n",
    "import theano.tensor as T\n",
    "\n",
    "H0 = 2.27e-18\n",
    "sol = 3e8\n",
    "\n",
    "def H(z, params):\n",
    "    '''Implements the Friedmann equation'''\n",
    "    b = params[1]\n",
    "    model = (b)*((1+z)**3) + (1-b)\n",
    "    return H0*sqrt(model)\n",
    "\n",
    "\n",
    "def integrand(z, params):\n",
    "    '''Pass-throguh inverse for H(z)'''\n",
    "    return 1/H(z, params)\n",
    "\n",
    "\n",
    "def lum(z, params):\n",
    "    if z>zlim:\n",
    "        output = si.quad(integrand, 0, z, args=(params))\n",
    "        val = output[0]\n",
    "    else:\n",
    "        val = z/H0\n",
    "    return sol * val\n",
    "\n",
    "\n",
    "def flux(z, params):\n",
    "    lp = 1e39*params[0]\n",
    "    model = lp/((4*pi)*(((1+z)*(lum(z, params)))**2))\n",
    "    return model\n",
    "\n",
    "\n",
    "def mc(name, params):\n",
    "    '''Calculated magnitude'''\n",
    "    # select values out of pandas dataframe\n",
    "    z = float(jla.loc[jla['name']==name]['z'])\n",
    "    #ra = float(jla.loc[jla['name']==name]['RA'])\n",
    "    #dec = float(jla.loc[jla['name']==name]['DEC'])\n",
    "    \n",
    "    return (-20.45 - 2.5*log10(1e-4 * flux(z, params)))\n",
    "\n",
    "\n",
    "def mt(name):\n",
    "    '''True magnitude'''\n",
    "    return jla.loc[jla['name']==name]['msb']\n",
    "\n"
   ]
  },
  {
   "cell_type": "code",
   "execution_count": 5,
   "metadata": {
    "collapsed": false
   },
   "outputs": [],
   "source": [
    "# vectorize useful functions\n",
    "\n",
    "vmc = vectorize(mc)\n",
    "vmc.excluded.add(1)\n",
    "vmt = vectorize(mt)"
   ]
  },
  {
   "cell_type": "code",
   "execution_count": 6,
   "metadata": {
    "collapsed": false
   },
   "outputs": [
    {
     "data": {
      "text/plain": [
       "\"import pymc\\n\\nX = jla['name']\\nY = vmt(X)\\nSD = jla['msbe']\\n\\n\\nomegaM = pymc.Uniform('omegaM', 0, 0.5, value=0.3)\\nleff = pymc.Uniform('leff', 0, 100, value=2)\\n\\n@pymc.deterministic(plot=False)\\ndef mymsb(n=X, M=omegaM, L=leff):\\n    return vmc(n, [L, M])\\n\\ny = pymc.Normal('y', mu=mymsb, tau=1./(SD)**2, value=Y, observed=True)\""
      ]
     },
     "execution_count": 6,
     "metadata": {},
     "output_type": "execute_result"
    }
   ],
   "source": [
    "'''import pymc\n",
    "\n",
    "X = jla['name']\n",
    "Y = vmt(X)\n",
    "SD = jla['msbe']\n",
    "\n",
    "\n",
    "omegaM = pymc.Uniform('omegaM', 0, 0.5, value=0.3)\n",
    "leff = pymc.Uniform('leff', 0, 100, value=2)\n",
    "\n",
    "@pymc.deterministic(plot=False)\n",
    "def mymsb(n=X, M=omegaM, L=leff):\n",
    "    return vmc(n, [L, M])\n",
    "\n",
    "y = pymc.Normal('y', mu=mymsb, tau=1./(SD)**2, value=Y, observed=True)'''"
   ]
  },
  {
   "cell_type": "code",
   "execution_count": 7,
   "metadata": {
    "collapsed": false
   },
   "outputs": [
    {
     "data": {
      "text/plain": [
       "'params = [4, 0.3]\\nmexp = vmc(X, params)'"
      ]
     },
     "execution_count": 7,
     "metadata": {},
     "output_type": "execute_result"
    }
   ],
   "source": [
    "'''params = [4, 0.3]\n",
    "mexp = vmc(X, params)'''"
   ]
  },
  {
   "cell_type": "code",
   "execution_count": 8,
   "metadata": {
    "collapsed": false
   },
   "outputs": [
    {
     "data": {
      "text/plain": [
       "'R = pymc.MCMC([omegaM, leff, y])'"
      ]
     },
     "execution_count": 8,
     "metadata": {},
     "output_type": "execute_result"
    }
   ],
   "source": [
    "'''R = pymc.MCMC([omegaM, leff, y])'''"
   ]
  },
  {
   "cell_type": "code",
   "execution_count": 9,
   "metadata": {
    "collapsed": false
   },
   "outputs": [
    {
     "data": {
      "text/plain": [
       "'R.sample(1500)'"
      ]
     },
     "execution_count": 9,
     "metadata": {},
     "output_type": "execute_result"
    }
   ],
   "source": [
    "'''R.sample(1500)'''"
   ]
  },
  {
   "cell_type": "code",
   "execution_count": 10,
   "metadata": {
    "collapsed": false
   },
   "outputs": [
    {
     "data": {
      "text/plain": [
       "'from pymc.Matplot import plot\\n\\nplot(R)'"
      ]
     },
     "execution_count": 10,
     "metadata": {},
     "output_type": "execute_result"
    }
   ],
   "source": [
    "'''from pymc.Matplot import plot\n",
    "\n",
    "plot(R)'''"
   ]
  },
  {
   "cell_type": "code",
   "execution_count": null,
   "metadata": {
    "collapsed": false
   },
   "outputs": [],
   "source": []
  },
  {
   "cell_type": "code",
   "execution_count": 18,
   "metadata": {
    "collapsed": false
   },
   "outputs": [],
   "source": [
    "# fix lpeak using low-z data\n",
    "\n",
    "import pymc\n",
    "\n",
    "lowz = jla.loc[jla['z']<1.5]\n",
    "\n",
    "X = lowz['name']\n",
    "Y = vmt(X)\n",
    "SD = lowz['msbe']\n",
    "\n",
    "\n",
    "leff = pymc.Uniform('leff', lower=3, upper=5)\n",
    "\n",
    "@pymc.deterministic(plot=False)\n",
    "def mymsb(n=X, L=leff):\n",
    "    return vmc(n, [L, 0.295])  #om doesn't actually matter here\n",
    "\n",
    "y = pymc.Normal('y', mu=mymsb, tau=1./(SD)**2, value=Y, observed=True)"
   ]
  },
  {
   "cell_type": "code",
   "execution_count": 19,
   "metadata": {
    "collapsed": false
   },
   "outputs": [
    {
     "name": "stdout",
     "output_type": "stream",
     "text": [
      " [-----------------100%-----------------] 10000 of 10000 complete in 3050.6 secPlotting leff\n"
     ]
    },
    {
     "data": {
      "image/png": "[encoded data removed]",
      "text/plain": [
       "<matplotlib.figure.Figure at 0x7fc9d0860be0>"
      ]
     },
     "metadata": {},
     "output_type": "display_data"
    }
   ],
   "source": [
    "R = pymc.MCMC([leff, y])\n",
    "R.sample(10000)\n",
    "\n",
    "\n",
    "\n",
    "from pymc.Matplot import plot as mplr\n",
    "\n",
    "mplr(R)"
   ]
  },
  {
   "cell_type": "code",
   "execution_count": 13,
   "metadata": {
    "collapsed": false
   },
   "outputs": [],
   "source": [
    "lpeak = leff.value"
   ]
  },
  {
   "cell_type": "code",
   "execution_count": 14,
   "metadata": {
    "collapsed": false
   },
   "outputs": [],
   "source": [
    "highz = jla.loc[jla['z']>=zlim]\n",
    "\n",
    "X2 = highz['name']\n",
    "Y2 = vmt(X2)\n",
    "SD2 = highz['msbe']\n",
    "\n",
    "omegaM = pymc.Uniform('omegaM', lower=0, upper=0.5)\n",
    "\n",
    "@pymc.deterministic(plot=False)\n",
    "def mymsb2(n=X2, M=omegaM):\n",
    "    return vmc(n, [lpeak, M])  #om doesn't actually matter here\n",
    "\n",
    "y2 = pymc.Normal('y2', mu=mymsb2, tau=1./(SD2)**2, value=Y2, observed=True)"
   ]
  },
  {
   "cell_type": "code",
   "execution_count": 15,
   "metadata": {
    "collapsed": false
   },
   "outputs": [
    {
     "name": "stdout",
     "output_type": "stream",
     "text": [
      " [-----------------100%-----------------] 3000 of 3000 complete in 505.9 secPlotting omegaM\n"
     ]
    },
    {
     "data": {
      "image/png": "[encoded data removed]",
      "text/plain": [
       "<matplotlib.figure.Figure at 0x7fc9d0a3f240>"
      ]
     },
     "metadata": {},
     "output_type": "display_data"
    }
   ],
   "source": [
    "M = pymc.MCMC([omegaM, y])\n",
    "M.sample(3000)\n",
    "\n",
    "\n",
    "\n",
    "from pymc.Matplot import plot as mplr\n",
    "\n",
    "mplr(M)"
   ]
  },
  {
   "cell_type": "code",
   "execution_count": null,
   "metadata": {
    "collapsed": false
   },
   "outputs": [],
   "source": []
  },
  {
   "cell_type": "code",
   "execution_count": 16,
   "metadata": {
    "collapsed": false
   },
   "outputs": [],
   "source": [
    "from scipy.optimize import curve_fit"
   ]
  },
  {
   "cell_type": "code",
   "execution_count": 17,
   "metadata": {
    "collapsed": false
   },
   "outputs": [
    {
     "data": {
      "text/plain": [
       "(array([ 3.37677599,  0.46610978]), array([[ 0.00053569, -0.00026821],\n",
       "        [-0.00026821,  0.00019164]]))"
      ]
     },
     "execution_count": 17,
     "metadata": {},
     "output_type": "execute_result"
    }
   ],
   "source": [
    "def mccf(name, x, y):\n",
    "    '''Passthrough'''\n",
    "    params = [x,y]\n",
    "    return vmc(name, params)\n",
    "\n",
    "curve_fit(mccf, jla['name'], vmt(jla['name']), p0=([4, 0.3]), sigma=jla['msbe'], absolute_sigma=True)"
   ]
  },
  {
   "cell_type": "code",
   "execution_count": null,
   "metadata": {
    "collapsed": true
   },
   "outputs": [],
   "source": []
  }
 ],
 "metadata": {
  "kernelspec": {
   "display_name": "Python 3",
   "language": "python",
   "name": "python3"
  },
  "language_info": {
   "codemirror_mode": {
    "name": "ipython",
    "version": 3
   },
   "file_extension": ".py",
   "mimetype": "text/x-python",
   "name": "python",
   "nbconvert_exporter": "python",
   "pygments_lexer": "ipython3",
   "version": "3.4.4"
  }
 },
 "nbformat": 4,
 "nbformat_minor": 0
}
